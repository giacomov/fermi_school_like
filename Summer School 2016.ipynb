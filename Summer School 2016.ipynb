{
 "cells": [
  {
   "cell_type": "code",
   "execution_count": 2,
   "metadata": {
    "collapsed": false
   },
   "outputs": [],
   "source": [
    "from fermi_school_like import *"
   ]
  },
  {
   "cell_type": "code",
   "execution_count": 3,
   "metadata": {
    "collapsed": true
   },
   "outputs": [],
   "source": [
    "a = 100.0\n",
    "b = 5.0\n",
    "\n",
    "n_bins = 100\n",
    "\n",
    "xs = np.linspace(0,100,n_bins)\n",
    "\n",
    "model = Line(a,b)\n",
    "\n",
    "data_generative_process = DataGenerativeProcess(model)\n",
    "\n",
    "data = data_generative_process.generate(xs)"
   ]
  },
  {
   "cell_type": "code",
   "execution_count": 4,
   "metadata": {
    "collapsed": true
   },
   "outputs": [],
   "source": [
    "like = Likelihood(xs, data, model)"
   ]
  },
  {
   "cell_type": "code",
   "execution_count": 7,
   "metadata": {
    "collapsed": false
   },
   "outputs": [
    {
     "name": "stdout",
     "output_type": "stream",
     "text": [
      "(100.00928891135712, 7.349674476061816)\n"
     ]
    }
   ],
   "source": [
    "like.noise_model = 'poisson'\n",
    "\n",
    "a_mle, b_mle = like.maximize()\n",
    "\n",
    "print((a_mle, b_mle))"
   ]
  },
  {
   "cell_type": "code",
   "execution_count": null,
   "metadata": {
    "collapsed": true
   },
   "outputs": [],
   "source": []
  }
 ],
 "metadata": {
  "kernelspec": {
   "display_name": "Python 2",
   "language": "python",
   "name": "python2"
  },
  "language_info": {
   "codemirror_mode": {
    "name": "ipython",
    "version": 2
   },
   "file_extension": ".py",
   "mimetype": "text/x-python",
   "name": "python",
   "nbconvert_exporter": "python",
   "pygments_lexer": "ipython2",
   "version": "2.7.11"
  }
 },
 "nbformat": 4,
 "nbformat_minor": 0
}
